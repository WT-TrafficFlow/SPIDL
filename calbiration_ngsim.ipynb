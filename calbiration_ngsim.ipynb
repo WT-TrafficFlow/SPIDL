{
 "cells": [
  {
   "cell_type": "code",
   "execution_count": 18,
   "id": "b02d4360-bd5e-4b43-b32b-b6d2d9dcc765",
   "metadata": {
    "ExecuteTime": {
     "end_time": "2024-08-16T04:27:45.913595300Z",
     "start_time": "2024-08-16T04:27:45.408842900Z"
    }
   },
   "outputs": [
    {
     "name": "stdout",
     "output_type": "stream",
     "text": [
      "D:\\博士阶段\\个人论文\\交通状态估计\\Stochasitic PIDL\\code_planA\n"
     ]
    }
   ],
   "source": [
    "import pandas as pd\n",
    "import numpy as np\n",
    "import os\n",
    "root = os.getcwd()\n",
    "import matplotlib.pyplot as plt\n",
    "from scipy.optimize import curve_fit\n",
    "import math \n",
    "from sklearn.metrics import r2_score\n",
    "# 将二维数组展平为一维数组\n",
    "print(root)"
   ]
  },
  {
   "cell_type": "code",
   "execution_count": 19,
   "id": "3c599310-6467-4a98-88c4-7ac28f6458dc",
   "metadata": {
    "tags": [],
    "ExecuteTime": {
     "end_time": "2024-08-16T04:27:45.928174300Z",
     "start_time": "2024-08-16T04:27:45.431724800Z"
    }
   },
   "outputs": [
    {
     "name": "stdout",
     "output_type": "stream",
     "text": [
      "D:\\博士阶段\\个人论文\\交通状态估计\\Stochasitic PIDL\\code_planA\n"
     ]
    }
   ],
   "source": [
    "import pandas as pd\n",
    "import numpy as np\n",
    "import os\n",
    "root = os.getcwd()\n",
    "import matplotlib.pyplot as plt\n",
    "from scipy.optimize import curve_fit\n",
    "import math\n",
    "from sklearn.metrics import r2_score\n",
    "# 将二维数组展平为一维数组\n",
    "print(root)\n",
    "\n",
    "import pickle\n",
    "\n",
    "# 读取pkl文件,rb是读取二进制文件，而r是读取文本文件\n",
    "file = open('US101_Lane1to5_t1.5s30.pickle', 'rb')\n",
    "info = pickle.load(file)\n",
    "speed = np.around(info['vMat'].T,4)\n",
    "density = np.round(info['rhoMat'].T,4)\n",
    "\n",
    "flat_array1 = speed.flatten()\n",
    "flat_array2 = density.flatten()\n",
    "\n",
    "# 创建DataFrame\n",
    "df = pd.DataFrame({'speed': flat_array1, 'density': flat_array2})\n",
    "\n",
    "df2 = df.sort_values(by=['density'], ascending=[True])\n",
    "df2 = df2.reset_index()\n",
    "k = list(df2.loc[:, 'density'])\n",
    "\n",
    "omega_values_list = []\n",
    "\n",
    "\n",
    "# 定义函数计算 omega_i，并将结果添加到 omega_values_list 中\n",
    "def calculate_omega(k, max_index):\n",
    "    # new_max_index = np.argmin([i == k[max_index] for i in k])\n",
    "    indices = [i for i, v in enumerate(k) if v == k[max_index]]\n",
    "    # 从这些元素中找到序号最大的一个\n",
    "    new_max_index = max(indices)\n",
    "\n",
    "    if new_max_index < len(k)-1:\n",
    "        if max_index == 0:\n",
    "            omega_i = (k[new_max_index+1] - k[0]) / (len(indices))\n",
    "            omega_values = [omega_i] * (len(indices))\n",
    "            omega_values_list.append(omega_values)\n",
    "        else:\n",
    "            omega_i = (k[new_max_index+1] - k[max_index-1]) / (2 * (len(indices)))\n",
    "            omega_values = [omega_i] * (len(indices))\n",
    "            omega_values_list.append(omega_values)\n",
    "    else:\n",
    "        omega_i = (k[len(k) - 1] - k[max_index - 1]) / (2 * (len(indices)))\n",
    "        omega_values = [omega_i] * (len(indices))\n",
    "        omega_values_list.append(omega_values)\n",
    "    return new_max_index\n",
    "\n",
    "\n",
    "# 设置初始的 max_index\n",
    "max_index = 0\n",
    "\n",
    "# 循环执行计算，直到 max_index 达到 len(k)\n",
    "while max_index < len(k):\n",
    "    new_max_index = calculate_omega(k, max_index)\n",
    "    max_index =  new_max_index + 1\n",
    "\n",
    "# 取消嵌套的列表\n",
    "flat_list = [item for sublist in omega_values_list for item in sublist]\n",
    "\n",
    "df2['weight'] = flat_list"
   ]
  },
  {
   "cell_type": "code",
   "execution_count": 19,
   "id": "d6375731-6656-48d6-a821-bf83c5d9df6b",
   "metadata": {
    "ExecuteTime": {
     "end_time": "2024-08-16T04:27:51.635303800Z",
     "start_time": "2024-08-16T04:27:45.913595300Z"
    }
   },
   "outputs": [],
   "source": []
  },
  {
   "cell_type": "code",
   "execution_count": 23,
   "id": "eb5dc201-9d89-4704-9e1a-9f1f214c6a5f",
   "metadata": {
    "ExecuteTime": {
     "end_time": "2024-08-16T04:29:32.227104400Z",
     "start_time": "2024-08-16T04:29:26.213855300Z"
    }
   },
   "outputs": [
    {
     "name": "stdout",
     "output_type": "stream",
     "text": [
      "最优参数 vf_wlsm: 26.59326820641908\n",
      "最优参数 kjam_wlsm: 0.3008860698648351\n",
      "最优参数 vf_wlsm: 25.176221228436685\n",
      "最优参数 kjam_wlsm: 0.26636123938516465\n",
      "最优参数 vf_wlsm: 24.894857774277526\n",
      "最优参数 kjam_wlsm: 0.24913421221289547\n",
      "最优参数 vf_wlsm: 24.669812588821934\n",
      "最优参数 kjam_wlsm: 0.23867083892511226\n",
      "最优参数 vf_wlsm: 24.442787448022024\n",
      "最优参数 kjam_wlsm: 0.23142021462704795\n",
      "最优参数 vf_wlsm: 24.222270692397082\n",
      "最优参数 kjam_wlsm: 0.22566292233582108\n",
      "最优参数 vf_wlsm: 24.001727918667637\n",
      "最优参数 kjam_wlsm: 0.2207451181085118\n",
      "最优参数 vf_wlsm: 23.76194647330887\n",
      "最优参数 kjam_wlsm: 0.2164464797478522\n",
      "最优参数 vf_wlsm: 23.492558695577404\n",
      "最优参数 kjam_wlsm: 0.21256456500334162\n",
      "最优参数 vf_wlsm: 23.183933503230982\n",
      "最优参数 kjam_wlsm: 0.20891323654232538\n",
      "最优参数 vf_wlsm: 22.811498941358813\n",
      "最优参数 kjam_wlsm: 0.20537748484618884\n",
      "最优参数 vf_wlsm: 22.336109444296707\n",
      "最优参数 kjam_wlsm: 0.20181191743380703\n",
      "最优参数 vf_wlsm: 21.706299063892185\n",
      "最优参数 kjam_wlsm: 0.1977583259561427\n",
      "最优参数 vf_wlsm: 20.669663136172517\n",
      "最优参数 kjam_wlsm: 0.19265743897858195\n",
      "最优参数 vf_wlsm: 15.738300595505509\n",
      "最优参数 kjam_wlsm: 0.1892359172190067\n"
     ]
    }
   ],
   "source": [
    "# 按百分位标定\n",
    "import numpy as np\n",
    "from scipy.optimize import minimize\n",
    "\n",
    "# 自定义的拟合函数\n",
    "# def func2(k, vm, kj):\n",
    "#     return vm * (1 - k / kj)\n",
    "\n",
    "def func2(k, vm, kj):\n",
    "    return vm*np.exp(-k/kj)\n",
    "\n",
    "# 定义目标函数\n",
    "def objective_wlsm(params, x_data, y_data, weights, alpha):\n",
    "    vf, kjam = params\n",
    "    y_hat = func2(x_data, vf, kjam)\n",
    "    error = y_data - y_hat\n",
    "    error_blow = np.where(y_data - y_hat > 0, y_hat-y_data, 0)\n",
    "    weighted_error_blow = error_blow * np.sqrt(weights)\n",
    "    weighted_error = error * np.sqrt(weights)\n",
    "    cost = alpha * np.sum(weighted_error ** 2) + (1-2 * alpha) * np.sum(weighted_error_blow ** 2)\n",
    "    return cost\n",
    "\n",
    "\n",
    "# 初始参数猜测值\n",
    "initial_guess = [15.0, 30.0]\n",
    "vf_optimal_list = []\n",
    "kjam_optimal_list =[]\n",
    "rank_list = [0.01,0.08,0.15,0.22,0.29,0.36,0.43,0.50,0.57,0.64,0.71,0.78,0.85,0.92,0.99]\n",
    "for alpha in rank_list:\n",
    "\n",
    "    # 使用优化算法找到最优参数\n",
    "    result_wlsm = minimize(objective_wlsm, initial_guess, args=(df2.loc[:,'density'], df2.loc[:,'speed'], df2.loc[:,'weight'],alpha))\n",
    "\n",
    "\n",
    "    # 输出最优参数\n",
    "    vf_optimal, kjam_optimal = result_wlsm.x\n",
    "    vf_optimal_list.append(vf_optimal)\n",
    "    kjam_optimal_list.append(kjam_optimal)\n",
    "    print(\"最优参数 vf_wlsm:\", vf_optimal)\n",
    "    print(\"最优参数 kjam_wlsm:\", kjam_optimal)"
   ]
  },
  {
   "cell_type": "code",
   "execution_count": 25,
   "id": "99860747-db6d-4087-bbe8-21a18658a36b",
   "metadata": {
    "ExecuteTime": {
     "end_time": "2024-08-16T04:30:33.821477200Z",
     "start_time": "2024-08-16T04:30:33.669987700Z"
    }
   },
   "outputs": [
    {
     "name": "stdout",
     "output_type": "stream",
     "text": [
      "vm: 26.59326820641908 kj: 0.3008860698648351\n",
      "wlsm_r2_score: -0.10\n",
      "vm: 25.176221228436685 kj: 0.26636123938516465\n",
      "wlsm_r2_score: 0.51\n",
      "vm: 24.894857774277526 kj: 0.24913421221289547\n",
      "wlsm_r2_score: 0.64\n",
      "vm: 24.669812588821934 kj: 0.23867083892511226\n",
      "wlsm_r2_score: 0.69\n",
      "vm: 24.442787448022024 kj: 0.23142021462704795\n",
      "wlsm_r2_score: 0.71\n",
      "vm: 24.222270692397082 kj: 0.22566292233582108\n",
      "wlsm_r2_score: 0.71\n",
      "vm: 24.001727918667637 kj: 0.2207451181085118\n",
      "wlsm_r2_score: 0.70\n",
      "vm: 23.76194647330887 kj: 0.2164464797478522\n",
      "wlsm_r2_score: 0.68\n",
      "vm: 23.492558695577404 kj: 0.21256456500334162\n",
      "wlsm_r2_score: 0.65\n",
      "vm: 23.183933503230982 kj: 0.20891323654232538\n",
      "wlsm_r2_score: 0.61\n",
      "vm: 22.811498941358813 kj: 0.20537748484618884\n",
      "wlsm_r2_score: 0.56\n",
      "vm: 22.336109444296707 kj: 0.20181191743380703\n",
      "wlsm_r2_score: 0.48\n",
      "vm: 21.706299063892185 kj: 0.1977583259561427\n",
      "wlsm_r2_score: 0.37\n",
      "vm: 20.669663136172517 kj: 0.19265743897858195\n",
      "wlsm_r2_score: 0.17\n",
      "vm: 15.738300595505509 kj: 0.1892359172190067\n",
      "wlsm_r2_score: -0.84\n"
     ]
    },
    {
     "ename": "ValueError",
     "evalue": "\nr'$\u0007lpha$'=0.01\n  ^\nExpected main, found '$'  (at char 2), (line:1, col:3)",
     "output_type": "error",
     "traceback": [
      "\u001B[1;31m---------------------------------------------------------------------------\u001B[0m",
      "\u001B[1;31mParseException\u001B[0m                            Traceback (most recent call last)",
      "\u001B[1;32mD:\\Anaconda\\envs\\tf15\\lib\\site-packages\\matplotlib\\mathtext.py\u001B[0m in \u001B[0;36mparse\u001B[1;34m(self, s, fonts_object, fontsize, dpi)\u001B[0m\n\u001B[0;32m   2608\u001B[0m         \u001B[1;32mtry\u001B[0m\u001B[1;33m:\u001B[0m\u001B[1;33m\u001B[0m\u001B[1;33m\u001B[0m\u001B[0m\n\u001B[1;32m-> 2609\u001B[1;33m             \u001B[0mresult\u001B[0m \u001B[1;33m=\u001B[0m \u001B[0mself\u001B[0m\u001B[1;33m.\u001B[0m\u001B[0m_expression\u001B[0m\u001B[1;33m.\u001B[0m\u001B[0mparseString\u001B[0m\u001B[1;33m(\u001B[0m\u001B[0ms\u001B[0m\u001B[1;33m)\u001B[0m\u001B[1;33m\u001B[0m\u001B[1;33m\u001B[0m\u001B[0m\n\u001B[0m\u001B[0;32m   2610\u001B[0m         \u001B[1;32mexcept\u001B[0m \u001B[0mParseBaseException\u001B[0m \u001B[1;32mas\u001B[0m \u001B[0merr\u001B[0m\u001B[1;33m:\u001B[0m\u001B[1;33m\u001B[0m\u001B[1;33m\u001B[0m\u001B[0m\n",
      "\u001B[1;32mD:\\Anaconda\\envs\\tf15\\lib\\site-packages\\pyparsing\\util.py\u001B[0m in \u001B[0;36m_inner\u001B[1;34m(self, *args, **kwargs)\u001B[0m\n\u001B[0;32m    255\u001B[0m             \u001B[1;31m# )\u001B[0m\u001B[1;33m\u001B[0m\u001B[1;33m\u001B[0m\u001B[1;33m\u001B[0m\u001B[0m\n\u001B[1;32m--> 256\u001B[1;33m             \u001B[1;32mreturn\u001B[0m \u001B[0mfn\u001B[0m\u001B[1;33m(\u001B[0m\u001B[0mself\u001B[0m\u001B[1;33m,\u001B[0m \u001B[1;33m*\u001B[0m\u001B[0margs\u001B[0m\u001B[1;33m,\u001B[0m \u001B[1;33m**\u001B[0m\u001B[0mkwargs\u001B[0m\u001B[1;33m)\u001B[0m\u001B[1;33m\u001B[0m\u001B[1;33m\u001B[0m\u001B[0m\n\u001B[0m\u001B[0;32m    257\u001B[0m \u001B[1;33m\u001B[0m\u001B[0m\n",
      "\u001B[1;32mD:\\Anaconda\\envs\\tf15\\lib\\site-packages\\pyparsing\\core.py\u001B[0m in \u001B[0;36mparse_string\u001B[1;34m(self, instring, parse_all, parseAll)\u001B[0m\n\u001B[0;32m   1189\u001B[0m                 \u001B[1;31m# catch and re-raise exception from here, clearing out pyparsing internal stack trace\u001B[0m\u001B[1;33m\u001B[0m\u001B[1;33m\u001B[0m\u001B[1;33m\u001B[0m\u001B[0m\n\u001B[1;32m-> 1190\u001B[1;33m                 \u001B[1;32mraise\u001B[0m \u001B[0mexc\u001B[0m\u001B[1;33m.\u001B[0m\u001B[0mwith_traceback\u001B[0m\u001B[1;33m(\u001B[0m\u001B[1;32mNone\u001B[0m\u001B[1;33m)\u001B[0m\u001B[1;33m\u001B[0m\u001B[1;33m\u001B[0m\u001B[0m\n\u001B[0m\u001B[0;32m   1191\u001B[0m         \u001B[1;32melse\u001B[0m\u001B[1;33m:\u001B[0m\u001B[1;33m\u001B[0m\u001B[1;33m\u001B[0m\u001B[0m\n",
      "\u001B[1;31mParseException\u001B[0m: Expected main, found '$'  (at char 2), (line:1, col:3)",
      "\nThe above exception was the direct cause of the following exception:\n",
      "\u001B[1;31mValueError\u001B[0m                                Traceback (most recent call last)",
      "\u001B[1;32m<ipython-input-25-790dd8652dd0>\u001B[0m in \u001B[0;36m<module>\u001B[1;34m()\u001B[0m\n\u001B[0;32m     14\u001B[0m \u001B[0mplt\u001B[0m\u001B[1;33m.\u001B[0m\u001B[0mylabel\u001B[0m\u001B[1;33m(\u001B[0m\u001B[1;34m'Speed(m/s)'\u001B[0m\u001B[1;33m)\u001B[0m\u001B[1;33m\u001B[0m\u001B[1;33m\u001B[0m\u001B[0m\n\u001B[0;32m     15\u001B[0m \u001B[0mplt\u001B[0m\u001B[1;33m.\u001B[0m\u001B[0mlegend\u001B[0m\u001B[1;33m(\u001B[0m\u001B[1;33m)\u001B[0m\u001B[1;33m\u001B[0m\u001B[1;33m\u001B[0m\u001B[0m\n\u001B[1;32m---> 16\u001B[1;33m \u001B[0mplt\u001B[0m\u001B[1;33m.\u001B[0m\u001B[0msavefig\u001B[0m\u001B[1;33m(\u001B[0m\u001B[1;34m\"calibration.png\"\u001B[0m\u001B[1;33m,\u001B[0m \u001B[0mdpi\u001B[0m\u001B[1;33m=\u001B[0m\u001B[1;36m400\u001B[0m\u001B[1;33m,\u001B[0m \u001B[0mbbox_inches\u001B[0m\u001B[1;33m=\u001B[0m\u001B[1;34m'tight'\u001B[0m\u001B[1;33m)\u001B[0m\u001B[1;33m\u001B[0m\u001B[1;33m\u001B[0m\u001B[0m\n\u001B[0m\u001B[0;32m     17\u001B[0m \u001B[0mplt\u001B[0m\u001B[1;33m.\u001B[0m\u001B[0mshow\u001B[0m\u001B[1;33m(\u001B[0m\u001B[1;33m)\u001B[0m\u001B[1;33m\u001B[0m\u001B[1;33m\u001B[0m\u001B[0m\n",
      "\u001B[1;32mD:\\Anaconda\\envs\\tf15\\lib\\site-packages\\matplotlib\\pyplot.py\u001B[0m in \u001B[0;36msavefig\u001B[1;34m(*args, **kwargs)\u001B[0m\n\u001B[0;32m    857\u001B[0m \u001B[1;32mdef\u001B[0m \u001B[0msavefig\u001B[0m\u001B[1;33m(\u001B[0m\u001B[1;33m*\u001B[0m\u001B[0margs\u001B[0m\u001B[1;33m,\u001B[0m \u001B[1;33m**\u001B[0m\u001B[0mkwargs\u001B[0m\u001B[1;33m)\u001B[0m\u001B[1;33m:\u001B[0m\u001B[1;33m\u001B[0m\u001B[1;33m\u001B[0m\u001B[0m\n\u001B[0;32m    858\u001B[0m     \u001B[0mfig\u001B[0m \u001B[1;33m=\u001B[0m \u001B[0mgcf\u001B[0m\u001B[1;33m(\u001B[0m\u001B[1;33m)\u001B[0m\u001B[1;33m\u001B[0m\u001B[1;33m\u001B[0m\u001B[0m\n\u001B[1;32m--> 859\u001B[1;33m     \u001B[0mres\u001B[0m \u001B[1;33m=\u001B[0m \u001B[0mfig\u001B[0m\u001B[1;33m.\u001B[0m\u001B[0msavefig\u001B[0m\u001B[1;33m(\u001B[0m\u001B[1;33m*\u001B[0m\u001B[0margs\u001B[0m\u001B[1;33m,\u001B[0m \u001B[1;33m**\u001B[0m\u001B[0mkwargs\u001B[0m\u001B[1;33m)\u001B[0m\u001B[1;33m\u001B[0m\u001B[1;33m\u001B[0m\u001B[0m\n\u001B[0m\u001B[0;32m    860\u001B[0m     \u001B[0mfig\u001B[0m\u001B[1;33m.\u001B[0m\u001B[0mcanvas\u001B[0m\u001B[1;33m.\u001B[0m\u001B[0mdraw_idle\u001B[0m\u001B[1;33m(\u001B[0m\u001B[1;33m)\u001B[0m   \u001B[1;31m# need this if 'transparent=True' to reset colors\u001B[0m\u001B[1;33m\u001B[0m\u001B[1;33m\u001B[0m\u001B[0m\n\u001B[0;32m    861\u001B[0m     \u001B[1;32mreturn\u001B[0m \u001B[0mres\u001B[0m\u001B[1;33m\u001B[0m\u001B[1;33m\u001B[0m\u001B[0m\n",
      "\u001B[1;32mD:\\Anaconda\\envs\\tf15\\lib\\site-packages\\matplotlib\\figure.py\u001B[0m in \u001B[0;36msavefig\u001B[1;34m(self, fname, transparent, **kwargs)\u001B[0m\n\u001B[0;32m   2309\u001B[0m                 \u001B[0mpatch\u001B[0m\u001B[1;33m.\u001B[0m\u001B[0mset_edgecolor\u001B[0m\u001B[1;33m(\u001B[0m\u001B[1;34m'none'\u001B[0m\u001B[1;33m)\u001B[0m\u001B[1;33m\u001B[0m\u001B[1;33m\u001B[0m\u001B[0m\n\u001B[0;32m   2310\u001B[0m \u001B[1;33m\u001B[0m\u001B[0m\n\u001B[1;32m-> 2311\u001B[1;33m         \u001B[0mself\u001B[0m\u001B[1;33m.\u001B[0m\u001B[0mcanvas\u001B[0m\u001B[1;33m.\u001B[0m\u001B[0mprint_figure\u001B[0m\u001B[1;33m(\u001B[0m\u001B[0mfname\u001B[0m\u001B[1;33m,\u001B[0m \u001B[1;33m**\u001B[0m\u001B[0mkwargs\u001B[0m\u001B[1;33m)\u001B[0m\u001B[1;33m\u001B[0m\u001B[1;33m\u001B[0m\u001B[0m\n\u001B[0m\u001B[0;32m   2312\u001B[0m \u001B[1;33m\u001B[0m\u001B[0m\n\u001B[0;32m   2313\u001B[0m         \u001B[1;32mif\u001B[0m \u001B[0mtransparent\u001B[0m\u001B[1;33m:\u001B[0m\u001B[1;33m\u001B[0m\u001B[1;33m\u001B[0m\u001B[0m\n",
      "\u001B[1;32mD:\\Anaconda\\envs\\tf15\\lib\\site-packages\\matplotlib\\backend_bases.py\u001B[0m in \u001B[0;36mprint_figure\u001B[1;34m(self, filename, dpi, facecolor, edgecolor, orientation, format, bbox_inches, pad_inches, bbox_extra_artists, backend, **kwargs)\u001B[0m\n\u001B[0;32m   2191\u001B[0m                            else suppress())\n\u001B[0;32m   2192\u001B[0m                     \u001B[1;32mwith\u001B[0m \u001B[0mctx\u001B[0m\u001B[1;33m:\u001B[0m\u001B[1;33m\u001B[0m\u001B[1;33m\u001B[0m\u001B[0m\n\u001B[1;32m-> 2193\u001B[1;33m                         \u001B[0mself\u001B[0m\u001B[1;33m.\u001B[0m\u001B[0mfigure\u001B[0m\u001B[1;33m.\u001B[0m\u001B[0mdraw\u001B[0m\u001B[1;33m(\u001B[0m\u001B[0mrenderer\u001B[0m\u001B[1;33m)\u001B[0m\u001B[1;33m\u001B[0m\u001B[1;33m\u001B[0m\u001B[0m\n\u001B[0m\u001B[0;32m   2194\u001B[0m \u001B[1;33m\u001B[0m\u001B[0m\n\u001B[0;32m   2195\u001B[0m                     bbox_inches = self.figure.get_tightbbox(\n",
      "\u001B[1;32mD:\\Anaconda\\envs\\tf15\\lib\\site-packages\\matplotlib\\artist.py\u001B[0m in \u001B[0;36mdraw_wrapper\u001B[1;34m(artist, renderer, *args, **kwargs)\u001B[0m\n\u001B[0;32m     39\u001B[0m                 \u001B[0mrenderer\u001B[0m\u001B[1;33m.\u001B[0m\u001B[0mstart_filter\u001B[0m\u001B[1;33m(\u001B[0m\u001B[1;33m)\u001B[0m\u001B[1;33m\u001B[0m\u001B[1;33m\u001B[0m\u001B[0m\n\u001B[0;32m     40\u001B[0m \u001B[1;33m\u001B[0m\u001B[0m\n\u001B[1;32m---> 41\u001B[1;33m             \u001B[1;32mreturn\u001B[0m \u001B[0mdraw\u001B[0m\u001B[1;33m(\u001B[0m\u001B[0martist\u001B[0m\u001B[1;33m,\u001B[0m \u001B[0mrenderer\u001B[0m\u001B[1;33m,\u001B[0m \u001B[1;33m*\u001B[0m\u001B[0margs\u001B[0m\u001B[1;33m,\u001B[0m \u001B[1;33m**\u001B[0m\u001B[0mkwargs\u001B[0m\u001B[1;33m)\u001B[0m\u001B[1;33m\u001B[0m\u001B[1;33m\u001B[0m\u001B[0m\n\u001B[0m\u001B[0;32m     42\u001B[0m         \u001B[1;32mfinally\u001B[0m\u001B[1;33m:\u001B[0m\u001B[1;33m\u001B[0m\u001B[1;33m\u001B[0m\u001B[0m\n\u001B[0;32m     43\u001B[0m             \u001B[1;32mif\u001B[0m \u001B[0martist\u001B[0m\u001B[1;33m.\u001B[0m\u001B[0mget_agg_filter\u001B[0m\u001B[1;33m(\u001B[0m\u001B[1;33m)\u001B[0m \u001B[1;32mis\u001B[0m \u001B[1;32mnot\u001B[0m \u001B[1;32mNone\u001B[0m\u001B[1;33m:\u001B[0m\u001B[1;33m\u001B[0m\u001B[1;33m\u001B[0m\u001B[0m\n",
      "\u001B[1;32mD:\\Anaconda\\envs\\tf15\\lib\\site-packages\\matplotlib\\figure.py\u001B[0m in \u001B[0;36mdraw\u001B[1;34m(self, renderer)\u001B[0m\n\u001B[0;32m   1862\u001B[0m             \u001B[0mself\u001B[0m\u001B[1;33m.\u001B[0m\u001B[0mpatch\u001B[0m\u001B[1;33m.\u001B[0m\u001B[0mdraw\u001B[0m\u001B[1;33m(\u001B[0m\u001B[0mrenderer\u001B[0m\u001B[1;33m)\u001B[0m\u001B[1;33m\u001B[0m\u001B[1;33m\u001B[0m\u001B[0m\n\u001B[0;32m   1863\u001B[0m             mimage._draw_list_compositing_images(\n\u001B[1;32m-> 1864\u001B[1;33m                 renderer, self, artists, self.suppressComposite)\n\u001B[0m\u001B[0;32m   1865\u001B[0m \u001B[1;33m\u001B[0m\u001B[0m\n\u001B[0;32m   1866\u001B[0m             \u001B[0mrenderer\u001B[0m\u001B[1;33m.\u001B[0m\u001B[0mclose_group\u001B[0m\u001B[1;33m(\u001B[0m\u001B[1;34m'figure'\u001B[0m\u001B[1;33m)\u001B[0m\u001B[1;33m\u001B[0m\u001B[1;33m\u001B[0m\u001B[0m\n",
      "\u001B[1;32mD:\\Anaconda\\envs\\tf15\\lib\\site-packages\\matplotlib\\image.py\u001B[0m in \u001B[0;36m_draw_list_compositing_images\u001B[1;34m(renderer, parent, artists, suppress_composite)\u001B[0m\n\u001B[0;32m    129\u001B[0m     \u001B[1;32mif\u001B[0m \u001B[0mnot_composite\u001B[0m \u001B[1;32mor\u001B[0m \u001B[1;32mnot\u001B[0m \u001B[0mhas_images\u001B[0m\u001B[1;33m:\u001B[0m\u001B[1;33m\u001B[0m\u001B[1;33m\u001B[0m\u001B[0m\n\u001B[0;32m    130\u001B[0m         \u001B[1;32mfor\u001B[0m \u001B[0ma\u001B[0m \u001B[1;32min\u001B[0m \u001B[0martists\u001B[0m\u001B[1;33m:\u001B[0m\u001B[1;33m\u001B[0m\u001B[1;33m\u001B[0m\u001B[0m\n\u001B[1;32m--> 131\u001B[1;33m             \u001B[0ma\u001B[0m\u001B[1;33m.\u001B[0m\u001B[0mdraw\u001B[0m\u001B[1;33m(\u001B[0m\u001B[0mrenderer\u001B[0m\u001B[1;33m)\u001B[0m\u001B[1;33m\u001B[0m\u001B[1;33m\u001B[0m\u001B[0m\n\u001B[0m\u001B[0;32m    132\u001B[0m     \u001B[1;32melse\u001B[0m\u001B[1;33m:\u001B[0m\u001B[1;33m\u001B[0m\u001B[1;33m\u001B[0m\u001B[0m\n\u001B[0;32m    133\u001B[0m         \u001B[1;31m# Composite any adjacent images together\u001B[0m\u001B[1;33m\u001B[0m\u001B[1;33m\u001B[0m\u001B[1;33m\u001B[0m\u001B[0m\n",
      "\u001B[1;32mD:\\Anaconda\\envs\\tf15\\lib\\site-packages\\matplotlib\\artist.py\u001B[0m in \u001B[0;36mdraw_wrapper\u001B[1;34m(artist, renderer, *args, **kwargs)\u001B[0m\n\u001B[0;32m     39\u001B[0m                 \u001B[0mrenderer\u001B[0m\u001B[1;33m.\u001B[0m\u001B[0mstart_filter\u001B[0m\u001B[1;33m(\u001B[0m\u001B[1;33m)\u001B[0m\u001B[1;33m\u001B[0m\u001B[1;33m\u001B[0m\u001B[0m\n\u001B[0;32m     40\u001B[0m \u001B[1;33m\u001B[0m\u001B[0m\n\u001B[1;32m---> 41\u001B[1;33m             \u001B[1;32mreturn\u001B[0m \u001B[0mdraw\u001B[0m\u001B[1;33m(\u001B[0m\u001B[0martist\u001B[0m\u001B[1;33m,\u001B[0m \u001B[0mrenderer\u001B[0m\u001B[1;33m,\u001B[0m \u001B[1;33m*\u001B[0m\u001B[0margs\u001B[0m\u001B[1;33m,\u001B[0m \u001B[1;33m**\u001B[0m\u001B[0mkwargs\u001B[0m\u001B[1;33m)\u001B[0m\u001B[1;33m\u001B[0m\u001B[1;33m\u001B[0m\u001B[0m\n\u001B[0m\u001B[0;32m     42\u001B[0m         \u001B[1;32mfinally\u001B[0m\u001B[1;33m:\u001B[0m\u001B[1;33m\u001B[0m\u001B[1;33m\u001B[0m\u001B[0m\n\u001B[0;32m     43\u001B[0m             \u001B[1;32mif\u001B[0m \u001B[0martist\u001B[0m\u001B[1;33m.\u001B[0m\u001B[0mget_agg_filter\u001B[0m\u001B[1;33m(\u001B[0m\u001B[1;33m)\u001B[0m \u001B[1;32mis\u001B[0m \u001B[1;32mnot\u001B[0m \u001B[1;32mNone\u001B[0m\u001B[1;33m:\u001B[0m\u001B[1;33m\u001B[0m\u001B[1;33m\u001B[0m\u001B[0m\n",
      "\u001B[1;32mD:\\Anaconda\\envs\\tf15\\lib\\site-packages\\matplotlib\\cbook\\deprecation.py\u001B[0m in \u001B[0;36mwrapper\u001B[1;34m(*inner_args, **inner_kwargs)\u001B[0m\n\u001B[0;32m    409\u001B[0m                          \u001B[1;32melse\u001B[0m \u001B[0mdeprecation_addendum\u001B[0m\u001B[1;33m,\u001B[0m\u001B[1;33m\u001B[0m\u001B[1;33m\u001B[0m\u001B[0m\n\u001B[0;32m    410\u001B[0m                 **kwargs)\n\u001B[1;32m--> 411\u001B[1;33m         \u001B[1;32mreturn\u001B[0m \u001B[0mfunc\u001B[0m\u001B[1;33m(\u001B[0m\u001B[1;33m*\u001B[0m\u001B[0minner_args\u001B[0m\u001B[1;33m,\u001B[0m \u001B[1;33m**\u001B[0m\u001B[0minner_kwargs\u001B[0m\u001B[1;33m)\u001B[0m\u001B[1;33m\u001B[0m\u001B[1;33m\u001B[0m\u001B[0m\n\u001B[0m\u001B[0;32m    412\u001B[0m \u001B[1;33m\u001B[0m\u001B[0m\n\u001B[0;32m    413\u001B[0m     \u001B[1;32mreturn\u001B[0m \u001B[0mwrapper\u001B[0m\u001B[1;33m\u001B[0m\u001B[1;33m\u001B[0m\u001B[0m\n",
      "\u001B[1;32mD:\\Anaconda\\envs\\tf15\\lib\\site-packages\\matplotlib\\axes\\_base.py\u001B[0m in \u001B[0;36mdraw\u001B[1;34m(self, renderer, inframe)\u001B[0m\n\u001B[0;32m   2745\u001B[0m             \u001B[0mrenderer\u001B[0m\u001B[1;33m.\u001B[0m\u001B[0mstop_rasterizing\u001B[0m\u001B[1;33m(\u001B[0m\u001B[1;33m)\u001B[0m\u001B[1;33m\u001B[0m\u001B[1;33m\u001B[0m\u001B[0m\n\u001B[0;32m   2746\u001B[0m \u001B[1;33m\u001B[0m\u001B[0m\n\u001B[1;32m-> 2747\u001B[1;33m         \u001B[0mmimage\u001B[0m\u001B[1;33m.\u001B[0m\u001B[0m_draw_list_compositing_images\u001B[0m\u001B[1;33m(\u001B[0m\u001B[0mrenderer\u001B[0m\u001B[1;33m,\u001B[0m \u001B[0mself\u001B[0m\u001B[1;33m,\u001B[0m \u001B[0martists\u001B[0m\u001B[1;33m)\u001B[0m\u001B[1;33m\u001B[0m\u001B[1;33m\u001B[0m\u001B[0m\n\u001B[0m\u001B[0;32m   2748\u001B[0m \u001B[1;33m\u001B[0m\u001B[0m\n\u001B[0;32m   2749\u001B[0m         \u001B[0mrenderer\u001B[0m\u001B[1;33m.\u001B[0m\u001B[0mclose_group\u001B[0m\u001B[1;33m(\u001B[0m\u001B[1;34m'axes'\u001B[0m\u001B[1;33m)\u001B[0m\u001B[1;33m\u001B[0m\u001B[1;33m\u001B[0m\u001B[0m\n",
      "\u001B[1;32mD:\\Anaconda\\envs\\tf15\\lib\\site-packages\\matplotlib\\image.py\u001B[0m in \u001B[0;36m_draw_list_compositing_images\u001B[1;34m(renderer, parent, artists, suppress_composite)\u001B[0m\n\u001B[0;32m    129\u001B[0m     \u001B[1;32mif\u001B[0m \u001B[0mnot_composite\u001B[0m \u001B[1;32mor\u001B[0m \u001B[1;32mnot\u001B[0m \u001B[0mhas_images\u001B[0m\u001B[1;33m:\u001B[0m\u001B[1;33m\u001B[0m\u001B[1;33m\u001B[0m\u001B[0m\n\u001B[0;32m    130\u001B[0m         \u001B[1;32mfor\u001B[0m \u001B[0ma\u001B[0m \u001B[1;32min\u001B[0m \u001B[0martists\u001B[0m\u001B[1;33m:\u001B[0m\u001B[1;33m\u001B[0m\u001B[1;33m\u001B[0m\u001B[0m\n\u001B[1;32m--> 131\u001B[1;33m             \u001B[0ma\u001B[0m\u001B[1;33m.\u001B[0m\u001B[0mdraw\u001B[0m\u001B[1;33m(\u001B[0m\u001B[0mrenderer\u001B[0m\u001B[1;33m)\u001B[0m\u001B[1;33m\u001B[0m\u001B[1;33m\u001B[0m\u001B[0m\n\u001B[0m\u001B[0;32m    132\u001B[0m     \u001B[1;32melse\u001B[0m\u001B[1;33m:\u001B[0m\u001B[1;33m\u001B[0m\u001B[1;33m\u001B[0m\u001B[0m\n\u001B[0;32m    133\u001B[0m         \u001B[1;31m# Composite any adjacent images together\u001B[0m\u001B[1;33m\u001B[0m\u001B[1;33m\u001B[0m\u001B[1;33m\u001B[0m\u001B[0m\n",
      "\u001B[1;32mD:\\Anaconda\\envs\\tf15\\lib\\site-packages\\matplotlib\\artist.py\u001B[0m in \u001B[0;36mdraw_wrapper\u001B[1;34m(artist, renderer, *args, **kwargs)\u001B[0m\n\u001B[0;32m     39\u001B[0m                 \u001B[0mrenderer\u001B[0m\u001B[1;33m.\u001B[0m\u001B[0mstart_filter\u001B[0m\u001B[1;33m(\u001B[0m\u001B[1;33m)\u001B[0m\u001B[1;33m\u001B[0m\u001B[1;33m\u001B[0m\u001B[0m\n\u001B[0;32m     40\u001B[0m \u001B[1;33m\u001B[0m\u001B[0m\n\u001B[1;32m---> 41\u001B[1;33m             \u001B[1;32mreturn\u001B[0m \u001B[0mdraw\u001B[0m\u001B[1;33m(\u001B[0m\u001B[0martist\u001B[0m\u001B[1;33m,\u001B[0m \u001B[0mrenderer\u001B[0m\u001B[1;33m,\u001B[0m \u001B[1;33m*\u001B[0m\u001B[0margs\u001B[0m\u001B[1;33m,\u001B[0m \u001B[1;33m**\u001B[0m\u001B[0mkwargs\u001B[0m\u001B[1;33m)\u001B[0m\u001B[1;33m\u001B[0m\u001B[1;33m\u001B[0m\u001B[0m\n\u001B[0m\u001B[0;32m     42\u001B[0m         \u001B[1;32mfinally\u001B[0m\u001B[1;33m:\u001B[0m\u001B[1;33m\u001B[0m\u001B[1;33m\u001B[0m\u001B[0m\n\u001B[0;32m     43\u001B[0m             \u001B[1;32mif\u001B[0m \u001B[0martist\u001B[0m\u001B[1;33m.\u001B[0m\u001B[0mget_agg_filter\u001B[0m\u001B[1;33m(\u001B[0m\u001B[1;33m)\u001B[0m \u001B[1;32mis\u001B[0m \u001B[1;32mnot\u001B[0m \u001B[1;32mNone\u001B[0m\u001B[1;33m:\u001B[0m\u001B[1;33m\u001B[0m\u001B[1;33m\u001B[0m\u001B[0m\n",
      "\u001B[1;32mD:\\Anaconda\\envs\\tf15\\lib\\site-packages\\matplotlib\\legend.py\u001B[0m in \u001B[0;36mdraw\u001B[1;34m(self, renderer)\u001B[0m\n\u001B[0;32m    604\u001B[0m         \u001B[1;31m# update the location and size of the legend. This needs to\u001B[0m\u001B[1;33m\u001B[0m\u001B[1;33m\u001B[0m\u001B[1;33m\u001B[0m\u001B[0m\n\u001B[0;32m    605\u001B[0m         \u001B[1;31m# be done in any case to clip the figure right.\u001B[0m\u001B[1;33m\u001B[0m\u001B[1;33m\u001B[0m\u001B[1;33m\u001B[0m\u001B[0m\n\u001B[1;32m--> 606\u001B[1;33m         \u001B[0mbbox\u001B[0m \u001B[1;33m=\u001B[0m \u001B[0mself\u001B[0m\u001B[1;33m.\u001B[0m\u001B[0m_legend_box\u001B[0m\u001B[1;33m.\u001B[0m\u001B[0mget_window_extent\u001B[0m\u001B[1;33m(\u001B[0m\u001B[0mrenderer\u001B[0m\u001B[1;33m)\u001B[0m\u001B[1;33m\u001B[0m\u001B[1;33m\u001B[0m\u001B[0m\n\u001B[0m\u001B[0;32m    607\u001B[0m         \u001B[0mself\u001B[0m\u001B[1;33m.\u001B[0m\u001B[0mlegendPatch\u001B[0m\u001B[1;33m.\u001B[0m\u001B[0mset_bounds\u001B[0m\u001B[1;33m(\u001B[0m\u001B[0mbbox\u001B[0m\u001B[1;33m.\u001B[0m\u001B[0mx0\u001B[0m\u001B[1;33m,\u001B[0m \u001B[0mbbox\u001B[0m\u001B[1;33m.\u001B[0m\u001B[0my0\u001B[0m\u001B[1;33m,\u001B[0m \u001B[0mbbox\u001B[0m\u001B[1;33m.\u001B[0m\u001B[0mwidth\u001B[0m\u001B[1;33m,\u001B[0m \u001B[0mbbox\u001B[0m\u001B[1;33m.\u001B[0m\u001B[0mheight\u001B[0m\u001B[1;33m)\u001B[0m\u001B[1;33m\u001B[0m\u001B[1;33m\u001B[0m\u001B[0m\n\u001B[0;32m    608\u001B[0m         \u001B[0mself\u001B[0m\u001B[1;33m.\u001B[0m\u001B[0mlegendPatch\u001B[0m\u001B[1;33m.\u001B[0m\u001B[0mset_mutation_scale\u001B[0m\u001B[1;33m(\u001B[0m\u001B[0mfontsize\u001B[0m\u001B[1;33m)\u001B[0m\u001B[1;33m\u001B[0m\u001B[1;33m\u001B[0m\u001B[0m\n",
      "\u001B[1;32mD:\\Anaconda\\envs\\tf15\\lib\\site-packages\\matplotlib\\offsetbox.py\u001B[0m in \u001B[0;36mget_window_extent\u001B[1;34m(self, renderer)\u001B[0m\n\u001B[0;32m    344\u001B[0m     \u001B[1;32mdef\u001B[0m \u001B[0mget_window_extent\u001B[0m\u001B[1;33m(\u001B[0m\u001B[0mself\u001B[0m\u001B[1;33m,\u001B[0m \u001B[0mrenderer\u001B[0m\u001B[1;33m)\u001B[0m\u001B[1;33m:\u001B[0m\u001B[1;33m\u001B[0m\u001B[1;33m\u001B[0m\u001B[0m\n\u001B[0;32m    345\u001B[0m         \u001B[1;34m\"\"\"Return the bounding box (`.Bbox`) in display space.\"\"\"\u001B[0m\u001B[1;33m\u001B[0m\u001B[1;33m\u001B[0m\u001B[0m\n\u001B[1;32m--> 346\u001B[1;33m         \u001B[0mw\u001B[0m\u001B[1;33m,\u001B[0m \u001B[0mh\u001B[0m\u001B[1;33m,\u001B[0m \u001B[0mxd\u001B[0m\u001B[1;33m,\u001B[0m \u001B[0myd\u001B[0m\u001B[1;33m,\u001B[0m \u001B[0moffsets\u001B[0m \u001B[1;33m=\u001B[0m \u001B[0mself\u001B[0m\u001B[1;33m.\u001B[0m\u001B[0mget_extent_offsets\u001B[0m\u001B[1;33m(\u001B[0m\u001B[0mrenderer\u001B[0m\u001B[1;33m)\u001B[0m\u001B[1;33m\u001B[0m\u001B[1;33m\u001B[0m\u001B[0m\n\u001B[0m\u001B[0;32m    347\u001B[0m         \u001B[0mpx\u001B[0m\u001B[1;33m,\u001B[0m \u001B[0mpy\u001B[0m \u001B[1;33m=\u001B[0m \u001B[0mself\u001B[0m\u001B[1;33m.\u001B[0m\u001B[0mget_offset\u001B[0m\u001B[1;33m(\u001B[0m\u001B[0mw\u001B[0m\u001B[1;33m,\u001B[0m \u001B[0mh\u001B[0m\u001B[1;33m,\u001B[0m \u001B[0mxd\u001B[0m\u001B[1;33m,\u001B[0m \u001B[0myd\u001B[0m\u001B[1;33m,\u001B[0m \u001B[0mrenderer\u001B[0m\u001B[1;33m)\u001B[0m\u001B[1;33m\u001B[0m\u001B[1;33m\u001B[0m\u001B[0m\n\u001B[0;32m    348\u001B[0m         \u001B[1;32mreturn\u001B[0m \u001B[0mmtransforms\u001B[0m\u001B[1;33m.\u001B[0m\u001B[0mBbox\u001B[0m\u001B[1;33m.\u001B[0m\u001B[0mfrom_bounds\u001B[0m\u001B[1;33m(\u001B[0m\u001B[0mpx\u001B[0m \u001B[1;33m-\u001B[0m \u001B[0mxd\u001B[0m\u001B[1;33m,\u001B[0m \u001B[0mpy\u001B[0m \u001B[1;33m-\u001B[0m \u001B[0myd\u001B[0m\u001B[1;33m,\u001B[0m \u001B[0mw\u001B[0m\u001B[1;33m,\u001B[0m \u001B[0mh\u001B[0m\u001B[1;33m)\u001B[0m\u001B[1;33m\u001B[0m\u001B[1;33m\u001B[0m\u001B[0m\n",
      "\u001B[1;32mD:\\Anaconda\\envs\\tf15\\lib\\site-packages\\matplotlib\\offsetbox.py\u001B[0m in \u001B[0;36mget_extent_offsets\u001B[1;34m(self, renderer)\u001B[0m\n\u001B[0;32m    470\u001B[0m \u001B[1;33m\u001B[0m\u001B[0m\n\u001B[0;32m    471\u001B[0m         whd_list = [c.get_extent(renderer)\n\u001B[1;32m--> 472\u001B[1;33m                     for c in self.get_visible_children()]\n\u001B[0m\u001B[0;32m    473\u001B[0m         \u001B[0mwhd_list\u001B[0m \u001B[1;33m=\u001B[0m \u001B[1;33m[\u001B[0m\u001B[1;33m(\u001B[0m\u001B[0mw\u001B[0m\u001B[1;33m,\u001B[0m \u001B[0mh\u001B[0m\u001B[1;33m,\u001B[0m \u001B[0mxd\u001B[0m\u001B[1;33m,\u001B[0m \u001B[1;33m(\u001B[0m\u001B[0mh\u001B[0m \u001B[1;33m-\u001B[0m \u001B[0myd\u001B[0m\u001B[1;33m)\u001B[0m\u001B[1;33m)\u001B[0m \u001B[1;32mfor\u001B[0m \u001B[0mw\u001B[0m\u001B[1;33m,\u001B[0m \u001B[0mh\u001B[0m\u001B[1;33m,\u001B[0m \u001B[0mxd\u001B[0m\u001B[1;33m,\u001B[0m \u001B[0myd\u001B[0m \u001B[1;32min\u001B[0m \u001B[0mwhd_list\u001B[0m\u001B[1;33m]\u001B[0m\u001B[1;33m\u001B[0m\u001B[1;33m\u001B[0m\u001B[0m\n\u001B[0;32m    474\u001B[0m \u001B[1;33m\u001B[0m\u001B[0m\n",
      "\u001B[1;32mD:\\Anaconda\\envs\\tf15\\lib\\site-packages\\matplotlib\\offsetbox.py\u001B[0m in \u001B[0;36m<listcomp>\u001B[1;34m(.0)\u001B[0m\n\u001B[0;32m    470\u001B[0m \u001B[1;33m\u001B[0m\u001B[0m\n\u001B[0;32m    471\u001B[0m         whd_list = [c.get_extent(renderer)\n\u001B[1;32m--> 472\u001B[1;33m                     for c in self.get_visible_children()]\n\u001B[0m\u001B[0;32m    473\u001B[0m         \u001B[0mwhd_list\u001B[0m \u001B[1;33m=\u001B[0m \u001B[1;33m[\u001B[0m\u001B[1;33m(\u001B[0m\u001B[0mw\u001B[0m\u001B[1;33m,\u001B[0m \u001B[0mh\u001B[0m\u001B[1;33m,\u001B[0m \u001B[0mxd\u001B[0m\u001B[1;33m,\u001B[0m \u001B[1;33m(\u001B[0m\u001B[0mh\u001B[0m \u001B[1;33m-\u001B[0m \u001B[0myd\u001B[0m\u001B[1;33m)\u001B[0m\u001B[1;33m)\u001B[0m \u001B[1;32mfor\u001B[0m \u001B[0mw\u001B[0m\u001B[1;33m,\u001B[0m \u001B[0mh\u001B[0m\u001B[1;33m,\u001B[0m \u001B[0mxd\u001B[0m\u001B[1;33m,\u001B[0m \u001B[0myd\u001B[0m \u001B[1;32min\u001B[0m \u001B[0mwhd_list\u001B[0m\u001B[1;33m]\u001B[0m\u001B[1;33m\u001B[0m\u001B[1;33m\u001B[0m\u001B[0m\n\u001B[0;32m    474\u001B[0m \u001B[1;33m\u001B[0m\u001B[0m\n",
      "\u001B[1;32mD:\\Anaconda\\envs\\tf15\\lib\\site-packages\\matplotlib\\offsetbox.py\u001B[0m in \u001B[0;36mget_extent\u001B[1;34m(self, renderer)\u001B[0m\n\u001B[0;32m    339\u001B[0m     \u001B[1;32mdef\u001B[0m \u001B[0mget_extent\u001B[0m\u001B[1;33m(\u001B[0m\u001B[0mself\u001B[0m\u001B[1;33m,\u001B[0m \u001B[0mrenderer\u001B[0m\u001B[1;33m)\u001B[0m\u001B[1;33m:\u001B[0m\u001B[1;33m\u001B[0m\u001B[1;33m\u001B[0m\u001B[0m\n\u001B[0;32m    340\u001B[0m         \u001B[1;34m\"\"\"Return a tuple ``width, height, xdescent, ydescent`` of the box.\"\"\"\u001B[0m\u001B[1;33m\u001B[0m\u001B[1;33m\u001B[0m\u001B[0m\n\u001B[1;32m--> 341\u001B[1;33m         \u001B[0mw\u001B[0m\u001B[1;33m,\u001B[0m \u001B[0mh\u001B[0m\u001B[1;33m,\u001B[0m \u001B[0mxd\u001B[0m\u001B[1;33m,\u001B[0m \u001B[0myd\u001B[0m\u001B[1;33m,\u001B[0m \u001B[0moffsets\u001B[0m \u001B[1;33m=\u001B[0m \u001B[0mself\u001B[0m\u001B[1;33m.\u001B[0m\u001B[0mget_extent_offsets\u001B[0m\u001B[1;33m(\u001B[0m\u001B[0mrenderer\u001B[0m\u001B[1;33m)\u001B[0m\u001B[1;33m\u001B[0m\u001B[1;33m\u001B[0m\u001B[0m\n\u001B[0m\u001B[0;32m    342\u001B[0m         \u001B[1;32mreturn\u001B[0m \u001B[0mw\u001B[0m\u001B[1;33m,\u001B[0m \u001B[0mh\u001B[0m\u001B[1;33m,\u001B[0m \u001B[0mxd\u001B[0m\u001B[1;33m,\u001B[0m \u001B[0myd\u001B[0m\u001B[1;33m\u001B[0m\u001B[1;33m\u001B[0m\u001B[0m\n\u001B[0;32m    343\u001B[0m \u001B[1;33m\u001B[0m\u001B[0m\n",
      "\u001B[1;32mD:\\Anaconda\\envs\\tf15\\lib\\site-packages\\matplotlib\\offsetbox.py\u001B[0m in \u001B[0;36mget_extent_offsets\u001B[1;34m(self, renderer)\u001B[0m\n\u001B[0;32m    543\u001B[0m \u001B[1;33m\u001B[0m\u001B[0m\n\u001B[0;32m    544\u001B[0m         whd_list = [c.get_extent(renderer)\n\u001B[1;32m--> 545\u001B[1;33m                     for c in self.get_visible_children()]\n\u001B[0m\u001B[0;32m    546\u001B[0m \u001B[1;33m\u001B[0m\u001B[0m\n\u001B[0;32m    547\u001B[0m         \u001B[1;32mif\u001B[0m \u001B[1;32mnot\u001B[0m \u001B[0mwhd_list\u001B[0m\u001B[1;33m:\u001B[0m\u001B[1;33m\u001B[0m\u001B[1;33m\u001B[0m\u001B[0m\n",
      "\u001B[1;32mD:\\Anaconda\\envs\\tf15\\lib\\site-packages\\matplotlib\\offsetbox.py\u001B[0m in \u001B[0;36m<listcomp>\u001B[1;34m(.0)\u001B[0m\n\u001B[0;32m    543\u001B[0m \u001B[1;33m\u001B[0m\u001B[0m\n\u001B[0;32m    544\u001B[0m         whd_list = [c.get_extent(renderer)\n\u001B[1;32m--> 545\u001B[1;33m                     for c in self.get_visible_children()]\n\u001B[0m\u001B[0;32m    546\u001B[0m \u001B[1;33m\u001B[0m\u001B[0m\n\u001B[0;32m    547\u001B[0m         \u001B[1;32mif\u001B[0m \u001B[1;32mnot\u001B[0m \u001B[0mwhd_list\u001B[0m\u001B[1;33m:\u001B[0m\u001B[1;33m\u001B[0m\u001B[1;33m\u001B[0m\u001B[0m\n",
      "\u001B[1;32mD:\\Anaconda\\envs\\tf15\\lib\\site-packages\\matplotlib\\offsetbox.py\u001B[0m in \u001B[0;36mget_extent\u001B[1;34m(self, renderer)\u001B[0m\n\u001B[0;32m    339\u001B[0m     \u001B[1;32mdef\u001B[0m \u001B[0mget_extent\u001B[0m\u001B[1;33m(\u001B[0m\u001B[0mself\u001B[0m\u001B[1;33m,\u001B[0m \u001B[0mrenderer\u001B[0m\u001B[1;33m)\u001B[0m\u001B[1;33m:\u001B[0m\u001B[1;33m\u001B[0m\u001B[1;33m\u001B[0m\u001B[0m\n\u001B[0;32m    340\u001B[0m         \u001B[1;34m\"\"\"Return a tuple ``width, height, xdescent, ydescent`` of the box.\"\"\"\u001B[0m\u001B[1;33m\u001B[0m\u001B[1;33m\u001B[0m\u001B[0m\n\u001B[1;32m--> 341\u001B[1;33m         \u001B[0mw\u001B[0m\u001B[1;33m,\u001B[0m \u001B[0mh\u001B[0m\u001B[1;33m,\u001B[0m \u001B[0mxd\u001B[0m\u001B[1;33m,\u001B[0m \u001B[0myd\u001B[0m\u001B[1;33m,\u001B[0m \u001B[0moffsets\u001B[0m \u001B[1;33m=\u001B[0m \u001B[0mself\u001B[0m\u001B[1;33m.\u001B[0m\u001B[0mget_extent_offsets\u001B[0m\u001B[1;33m(\u001B[0m\u001B[0mrenderer\u001B[0m\u001B[1;33m)\u001B[0m\u001B[1;33m\u001B[0m\u001B[1;33m\u001B[0m\u001B[0m\n\u001B[0m\u001B[0;32m    342\u001B[0m         \u001B[1;32mreturn\u001B[0m \u001B[0mw\u001B[0m\u001B[1;33m,\u001B[0m \u001B[0mh\u001B[0m\u001B[1;33m,\u001B[0m \u001B[0mxd\u001B[0m\u001B[1;33m,\u001B[0m \u001B[0myd\u001B[0m\u001B[1;33m\u001B[0m\u001B[1;33m\u001B[0m\u001B[0m\n\u001B[0;32m    343\u001B[0m \u001B[1;33m\u001B[0m\u001B[0m\n",
      "\u001B[1;32mD:\\Anaconda\\envs\\tf15\\lib\\site-packages\\matplotlib\\offsetbox.py\u001B[0m in \u001B[0;36mget_extent_offsets\u001B[1;34m(self, renderer)\u001B[0m\n\u001B[0;32m    470\u001B[0m \u001B[1;33m\u001B[0m\u001B[0m\n\u001B[0;32m    471\u001B[0m         whd_list = [c.get_extent(renderer)\n\u001B[1;32m--> 472\u001B[1;33m                     for c in self.get_visible_children()]\n\u001B[0m\u001B[0;32m    473\u001B[0m         \u001B[0mwhd_list\u001B[0m \u001B[1;33m=\u001B[0m \u001B[1;33m[\u001B[0m\u001B[1;33m(\u001B[0m\u001B[0mw\u001B[0m\u001B[1;33m,\u001B[0m \u001B[0mh\u001B[0m\u001B[1;33m,\u001B[0m \u001B[0mxd\u001B[0m\u001B[1;33m,\u001B[0m \u001B[1;33m(\u001B[0m\u001B[0mh\u001B[0m \u001B[1;33m-\u001B[0m \u001B[0myd\u001B[0m\u001B[1;33m)\u001B[0m\u001B[1;33m)\u001B[0m \u001B[1;32mfor\u001B[0m \u001B[0mw\u001B[0m\u001B[1;33m,\u001B[0m \u001B[0mh\u001B[0m\u001B[1;33m,\u001B[0m \u001B[0mxd\u001B[0m\u001B[1;33m,\u001B[0m \u001B[0myd\u001B[0m \u001B[1;32min\u001B[0m \u001B[0mwhd_list\u001B[0m\u001B[1;33m]\u001B[0m\u001B[1;33m\u001B[0m\u001B[1;33m\u001B[0m\u001B[0m\n\u001B[0;32m    474\u001B[0m \u001B[1;33m\u001B[0m\u001B[0m\n",
      "\u001B[1;32mD:\\Anaconda\\envs\\tf15\\lib\\site-packages\\matplotlib\\offsetbox.py\u001B[0m in \u001B[0;36m<listcomp>\u001B[1;34m(.0)\u001B[0m\n\u001B[0;32m    470\u001B[0m \u001B[1;33m\u001B[0m\u001B[0m\n\u001B[0;32m    471\u001B[0m         whd_list = [c.get_extent(renderer)\n\u001B[1;32m--> 472\u001B[1;33m                     for c in self.get_visible_children()]\n\u001B[0m\u001B[0;32m    473\u001B[0m         \u001B[0mwhd_list\u001B[0m \u001B[1;33m=\u001B[0m \u001B[1;33m[\u001B[0m\u001B[1;33m(\u001B[0m\u001B[0mw\u001B[0m\u001B[1;33m,\u001B[0m \u001B[0mh\u001B[0m\u001B[1;33m,\u001B[0m \u001B[0mxd\u001B[0m\u001B[1;33m,\u001B[0m \u001B[1;33m(\u001B[0m\u001B[0mh\u001B[0m \u001B[1;33m-\u001B[0m \u001B[0myd\u001B[0m\u001B[1;33m)\u001B[0m\u001B[1;33m)\u001B[0m \u001B[1;32mfor\u001B[0m \u001B[0mw\u001B[0m\u001B[1;33m,\u001B[0m \u001B[0mh\u001B[0m\u001B[1;33m,\u001B[0m \u001B[0mxd\u001B[0m\u001B[1;33m,\u001B[0m \u001B[0myd\u001B[0m \u001B[1;32min\u001B[0m \u001B[0mwhd_list\u001B[0m\u001B[1;33m]\u001B[0m\u001B[1;33m\u001B[0m\u001B[1;33m\u001B[0m\u001B[0m\n\u001B[0;32m    474\u001B[0m \u001B[1;33m\u001B[0m\u001B[0m\n",
      "\u001B[1;32mD:\\Anaconda\\envs\\tf15\\lib\\site-packages\\matplotlib\\offsetbox.py\u001B[0m in \u001B[0;36mget_extent\u001B[1;34m(self, renderer)\u001B[0m\n\u001B[0;32m    339\u001B[0m     \u001B[1;32mdef\u001B[0m \u001B[0mget_extent\u001B[0m\u001B[1;33m(\u001B[0m\u001B[0mself\u001B[0m\u001B[1;33m,\u001B[0m \u001B[0mrenderer\u001B[0m\u001B[1;33m)\u001B[0m\u001B[1;33m:\u001B[0m\u001B[1;33m\u001B[0m\u001B[1;33m\u001B[0m\u001B[0m\n\u001B[0;32m    340\u001B[0m         \u001B[1;34m\"\"\"Return a tuple ``width, height, xdescent, ydescent`` of the box.\"\"\"\u001B[0m\u001B[1;33m\u001B[0m\u001B[1;33m\u001B[0m\u001B[0m\n\u001B[1;32m--> 341\u001B[1;33m         \u001B[0mw\u001B[0m\u001B[1;33m,\u001B[0m \u001B[0mh\u001B[0m\u001B[1;33m,\u001B[0m \u001B[0mxd\u001B[0m\u001B[1;33m,\u001B[0m \u001B[0myd\u001B[0m\u001B[1;33m,\u001B[0m \u001B[0moffsets\u001B[0m \u001B[1;33m=\u001B[0m \u001B[0mself\u001B[0m\u001B[1;33m.\u001B[0m\u001B[0mget_extent_offsets\u001B[0m\u001B[1;33m(\u001B[0m\u001B[0mrenderer\u001B[0m\u001B[1;33m)\u001B[0m\u001B[1;33m\u001B[0m\u001B[1;33m\u001B[0m\u001B[0m\n\u001B[0m\u001B[0;32m    342\u001B[0m         \u001B[1;32mreturn\u001B[0m \u001B[0mw\u001B[0m\u001B[1;33m,\u001B[0m \u001B[0mh\u001B[0m\u001B[1;33m,\u001B[0m \u001B[0mxd\u001B[0m\u001B[1;33m,\u001B[0m \u001B[0myd\u001B[0m\u001B[1;33m\u001B[0m\u001B[1;33m\u001B[0m\u001B[0m\n\u001B[0;32m    343\u001B[0m \u001B[1;33m\u001B[0m\u001B[0m\n",
      "\u001B[1;32mD:\\Anaconda\\envs\\tf15\\lib\\site-packages\\matplotlib\\offsetbox.py\u001B[0m in \u001B[0;36mget_extent_offsets\u001B[1;34m(self, renderer)\u001B[0m\n\u001B[0;32m    543\u001B[0m \u001B[1;33m\u001B[0m\u001B[0m\n\u001B[0;32m    544\u001B[0m         whd_list = [c.get_extent(renderer)\n\u001B[1;32m--> 545\u001B[1;33m                     for c in self.get_visible_children()]\n\u001B[0m\u001B[0;32m    546\u001B[0m \u001B[1;33m\u001B[0m\u001B[0m\n\u001B[0;32m    547\u001B[0m         \u001B[1;32mif\u001B[0m \u001B[1;32mnot\u001B[0m \u001B[0mwhd_list\u001B[0m\u001B[1;33m:\u001B[0m\u001B[1;33m\u001B[0m\u001B[1;33m\u001B[0m\u001B[0m\n",
      "\u001B[1;32mD:\\Anaconda\\envs\\tf15\\lib\\site-packages\\matplotlib\\offsetbox.py\u001B[0m in \u001B[0;36m<listcomp>\u001B[1;34m(.0)\u001B[0m\n\u001B[0;32m    543\u001B[0m \u001B[1;33m\u001B[0m\u001B[0m\n\u001B[0;32m    544\u001B[0m         whd_list = [c.get_extent(renderer)\n\u001B[1;32m--> 545\u001B[1;33m                     for c in self.get_visible_children()]\n\u001B[0m\u001B[0;32m    546\u001B[0m \u001B[1;33m\u001B[0m\u001B[0m\n\u001B[0;32m    547\u001B[0m         \u001B[1;32mif\u001B[0m \u001B[1;32mnot\u001B[0m \u001B[0mwhd_list\u001B[0m\u001B[1;33m:\u001B[0m\u001B[1;33m\u001B[0m\u001B[1;33m\u001B[0m\u001B[0m\n",
      "\u001B[1;32mD:\\Anaconda\\envs\\tf15\\lib\\site-packages\\matplotlib\\offsetbox.py\u001B[0m in \u001B[0;36mget_extent\u001B[1;34m(self, renderer)\u001B[0m\n\u001B[0;32m    884\u001B[0m             \"lp\", self._text._fontproperties, ismath=False)\n\u001B[0;32m    885\u001B[0m \u001B[1;33m\u001B[0m\u001B[0m\n\u001B[1;32m--> 886\u001B[1;33m         \u001B[0mbbox\u001B[0m\u001B[1;33m,\u001B[0m \u001B[0minfo\u001B[0m\u001B[1;33m,\u001B[0m \u001B[0md\u001B[0m \u001B[1;33m=\u001B[0m \u001B[0mself\u001B[0m\u001B[1;33m.\u001B[0m\u001B[0m_text\u001B[0m\u001B[1;33m.\u001B[0m\u001B[0m_get_layout\u001B[0m\u001B[1;33m(\u001B[0m\u001B[0mrenderer\u001B[0m\u001B[1;33m)\u001B[0m\u001B[1;33m\u001B[0m\u001B[1;33m\u001B[0m\u001B[0m\n\u001B[0m\u001B[0;32m    887\u001B[0m         \u001B[0mw\u001B[0m\u001B[1;33m,\u001B[0m \u001B[0mh\u001B[0m \u001B[1;33m=\u001B[0m \u001B[0mbbox\u001B[0m\u001B[1;33m.\u001B[0m\u001B[0mwidth\u001B[0m\u001B[1;33m,\u001B[0m \u001B[0mbbox\u001B[0m\u001B[1;33m.\u001B[0m\u001B[0mheight\u001B[0m\u001B[1;33m\u001B[0m\u001B[1;33m\u001B[0m\u001B[0m\n\u001B[0;32m    888\u001B[0m \u001B[1;33m\u001B[0m\u001B[0m\n",
      "\u001B[1;32mD:\\Anaconda\\envs\\tf15\\lib\\site-packages\\matplotlib\\text.py\u001B[0m in \u001B[0;36m_get_layout\u001B[1;34m(self, renderer)\u001B[0m\n\u001B[0;32m    294\u001B[0m             \u001B[1;32mif\u001B[0m \u001B[0mclean_line\u001B[0m\u001B[1;33m:\u001B[0m\u001B[1;33m\u001B[0m\u001B[1;33m\u001B[0m\u001B[0m\n\u001B[0;32m    295\u001B[0m                 w, h, d = renderer.get_text_width_height_descent(\n\u001B[1;32m--> 296\u001B[1;33m                     clean_line, self._fontproperties, ismath=ismath)\n\u001B[0m\u001B[0;32m    297\u001B[0m             \u001B[1;32melse\u001B[0m\u001B[1;33m:\u001B[0m\u001B[1;33m\u001B[0m\u001B[1;33m\u001B[0m\u001B[0m\n\u001B[0;32m    298\u001B[0m                 \u001B[0mw\u001B[0m \u001B[1;33m=\u001B[0m \u001B[0mh\u001B[0m \u001B[1;33m=\u001B[0m \u001B[0md\u001B[0m \u001B[1;33m=\u001B[0m \u001B[1;36m0\u001B[0m\u001B[1;33m\u001B[0m\u001B[1;33m\u001B[0m\u001B[0m\n",
      "\u001B[1;32mD:\\Anaconda\\envs\\tf15\\lib\\site-packages\\matplotlib\\backends\\backend_agg.py\u001B[0m in \u001B[0;36mget_text_width_height_descent\u001B[1;34m(self, s, prop, ismath)\u001B[0m\n\u001B[0;32m    231\u001B[0m         \u001B[1;32mif\u001B[0m \u001B[0mismath\u001B[0m\u001B[1;33m:\u001B[0m\u001B[1;33m\u001B[0m\u001B[1;33m\u001B[0m\u001B[0m\n\u001B[0;32m    232\u001B[0m             \u001B[0mox\u001B[0m\u001B[1;33m,\u001B[0m \u001B[0moy\u001B[0m\u001B[1;33m,\u001B[0m \u001B[0mwidth\u001B[0m\u001B[1;33m,\u001B[0m \u001B[0mheight\u001B[0m\u001B[1;33m,\u001B[0m \u001B[0mdescent\u001B[0m\u001B[1;33m,\u001B[0m \u001B[0mfonts\u001B[0m\u001B[1;33m,\u001B[0m \u001B[0mused_characters\u001B[0m \u001B[1;33m=\u001B[0m\u001B[0;31m \u001B[0m\u001B[0;31m\\\u001B[0m\u001B[1;33m\u001B[0m\u001B[1;33m\u001B[0m\u001B[0m\n\u001B[1;32m--> 233\u001B[1;33m                 \u001B[0mself\u001B[0m\u001B[1;33m.\u001B[0m\u001B[0mmathtext_parser\u001B[0m\u001B[1;33m.\u001B[0m\u001B[0mparse\u001B[0m\u001B[1;33m(\u001B[0m\u001B[0ms\u001B[0m\u001B[1;33m,\u001B[0m \u001B[0mself\u001B[0m\u001B[1;33m.\u001B[0m\u001B[0mdpi\u001B[0m\u001B[1;33m,\u001B[0m \u001B[0mprop\u001B[0m\u001B[1;33m)\u001B[0m\u001B[1;33m\u001B[0m\u001B[1;33m\u001B[0m\u001B[0m\n\u001B[0m\u001B[0;32m    234\u001B[0m             \u001B[1;32mreturn\u001B[0m \u001B[0mwidth\u001B[0m\u001B[1;33m,\u001B[0m \u001B[0mheight\u001B[0m\u001B[1;33m,\u001B[0m \u001B[0mdescent\u001B[0m\u001B[1;33m\u001B[0m\u001B[1;33m\u001B[0m\u001B[0m\n\u001B[0;32m    235\u001B[0m \u001B[1;33m\u001B[0m\u001B[0m\n",
      "\u001B[1;32mD:\\Anaconda\\envs\\tf15\\lib\\site-packages\\matplotlib\\mathtext.py\u001B[0m in \u001B[0;36mparse\u001B[1;34m(self, s, dpi, prop)\u001B[0m\n\u001B[0;32m   3331\u001B[0m         \u001B[1;31m# the glyph metrics).\u001B[0m\u001B[1;33m\u001B[0m\u001B[1;33m\u001B[0m\u001B[1;33m\u001B[0m\u001B[0m\n\u001B[0;32m   3332\u001B[0m         return self._parse_cached(\n\u001B[1;32m-> 3333\u001B[1;33m             s, dpi, prop, rcParams['ps.useafm'], rcParams['mathtext.fontset'])\n\u001B[0m\u001B[0;32m   3334\u001B[0m \u001B[1;33m\u001B[0m\u001B[0m\n\u001B[0;32m   3335\u001B[0m     \u001B[1;33m@\u001B[0m\u001B[0mfunctools\u001B[0m\u001B[1;33m.\u001B[0m\u001B[0mlru_cache\u001B[0m\u001B[1;33m(\u001B[0m\u001B[1;36m50\u001B[0m\u001B[1;33m)\u001B[0m\u001B[1;33m\u001B[0m\u001B[1;33m\u001B[0m\u001B[0m\n",
      "\u001B[1;32mD:\\Anaconda\\envs\\tf15\\lib\\site-packages\\matplotlib\\mathtext.py\u001B[0m in \u001B[0;36m_parse_cached\u001B[1;34m(self, s, dpi, prop, ps_useafm, fontset)\u001B[0m\n\u001B[0;32m   3354\u001B[0m             \u001B[0mself\u001B[0m\u001B[1;33m.\u001B[0m\u001B[0m__class__\u001B[0m\u001B[1;33m.\u001B[0m\u001B[0m_parser\u001B[0m \u001B[1;33m=\u001B[0m \u001B[0mParser\u001B[0m\u001B[1;33m(\u001B[0m\u001B[1;33m)\u001B[0m\u001B[1;33m\u001B[0m\u001B[1;33m\u001B[0m\u001B[0m\n\u001B[0;32m   3355\u001B[0m \u001B[1;33m\u001B[0m\u001B[0m\n\u001B[1;32m-> 3356\u001B[1;33m         \u001B[0mbox\u001B[0m \u001B[1;33m=\u001B[0m \u001B[0mself\u001B[0m\u001B[1;33m.\u001B[0m\u001B[0m_parser\u001B[0m\u001B[1;33m.\u001B[0m\u001B[0mparse\u001B[0m\u001B[1;33m(\u001B[0m\u001B[0ms\u001B[0m\u001B[1;33m,\u001B[0m \u001B[0mfont_output\u001B[0m\u001B[1;33m,\u001B[0m \u001B[0mfontsize\u001B[0m\u001B[1;33m,\u001B[0m \u001B[0mdpi\u001B[0m\u001B[1;33m)\u001B[0m\u001B[1;33m\u001B[0m\u001B[1;33m\u001B[0m\u001B[0m\n\u001B[0m\u001B[0;32m   3357\u001B[0m         \u001B[0mfont_output\u001B[0m\u001B[1;33m.\u001B[0m\u001B[0mset_canvas_size\u001B[0m\u001B[1;33m(\u001B[0m\u001B[0mbox\u001B[0m\u001B[1;33m.\u001B[0m\u001B[0mwidth\u001B[0m\u001B[1;33m,\u001B[0m \u001B[0mbox\u001B[0m\u001B[1;33m.\u001B[0m\u001B[0mheight\u001B[0m\u001B[1;33m,\u001B[0m \u001B[0mbox\u001B[0m\u001B[1;33m.\u001B[0m\u001B[0mdepth\u001B[0m\u001B[1;33m)\u001B[0m\u001B[1;33m\u001B[0m\u001B[1;33m\u001B[0m\u001B[0m\n\u001B[0;32m   3358\u001B[0m         \u001B[1;32mreturn\u001B[0m \u001B[0mfont_output\u001B[0m\u001B[1;33m.\u001B[0m\u001B[0mget_results\u001B[0m\u001B[1;33m(\u001B[0m\u001B[0mbox\u001B[0m\u001B[1;33m)\u001B[0m\u001B[1;33m\u001B[0m\u001B[1;33m\u001B[0m\u001B[0m\n",
      "\u001B[1;32mD:\\Anaconda\\envs\\tf15\\lib\\site-packages\\matplotlib\\mathtext.py\u001B[0m in \u001B[0;36mparse\u001B[1;34m(self, s, fonts_object, fontsize, dpi)\u001B[0m\n\u001B[0;32m   2612\u001B[0m                                         \u001B[0merr\u001B[0m\u001B[1;33m.\u001B[0m\u001B[0mline\u001B[0m\u001B[1;33m,\u001B[0m\u001B[1;33m\u001B[0m\u001B[1;33m\u001B[0m\u001B[0m\n\u001B[0;32m   2613\u001B[0m                                         \u001B[1;34m\" \"\u001B[0m \u001B[1;33m*\u001B[0m \u001B[1;33m(\u001B[0m\u001B[0merr\u001B[0m\u001B[1;33m.\u001B[0m\u001B[0mcolumn\u001B[0m \u001B[1;33m-\u001B[0m \u001B[1;36m1\u001B[0m\u001B[1;33m)\u001B[0m \u001B[1;33m+\u001B[0m \u001B[1;34m\"^\"\u001B[0m\u001B[1;33m,\u001B[0m\u001B[1;33m\u001B[0m\u001B[1;33m\u001B[0m\u001B[0m\n\u001B[1;32m-> 2614\u001B[1;33m                                         str(err)])) from err\n\u001B[0m\u001B[0;32m   2615\u001B[0m         \u001B[0mself\u001B[0m\u001B[1;33m.\u001B[0m\u001B[0m_state_stack\u001B[0m \u001B[1;33m=\u001B[0m \u001B[1;32mNone\u001B[0m\u001B[1;33m\u001B[0m\u001B[1;33m\u001B[0m\u001B[0m\n\u001B[0;32m   2616\u001B[0m         \u001B[0mself\u001B[0m\u001B[1;33m.\u001B[0m\u001B[0m_em_width_cache\u001B[0m \u001B[1;33m=\u001B[0m \u001B[1;33m{\u001B[0m\u001B[1;33m}\u001B[0m\u001B[1;33m\u001B[0m\u001B[1;33m\u001B[0m\u001B[0m\n",
      "\u001B[1;31mValueError\u001B[0m: \nr'$\u0007lpha$'=0.01\n  ^\nExpected main, found '$'  (at char 2), (line:1, col:3)"
     ]
    }
   ],
   "source": [
    "# xx2 = np.arange(0.001, 0.8, 0.001)\n",
    "# x2 = df2.loc[:,'density']\n",
    "# y2 = df2.loc[:,'speed']\n",
    "# plt.scatter(x2, y2, marker='o',s=0.5,alpha=0.3,label='Data')\n",
    "# for i in range(len(vf_optimal_list)):\n",
    "#     yy3 = func2(xx2,vf_optimal_list[i],kjam_optimal_list[i])\n",
    "#     yvals3 = func2(x2,vf_optimal_list[i],kjam_optimal_list[i]) #拟合y值\n",
    "#     print('vm:',vf_optimal_list[i],'kj:',kjam_optimal_list[i])\n",
    "#     print('wlsm_r2_score: %.2f'% r2_score(y2, yvals3))\n",
    "#     plt.plot(xx2,yy3,label=\"$alaph$-\"+str(rank_list[i]))\n",
    "# plt.xlim(0, 0.8)\n",
    "# plt.ylim(0, 25)   \n",
    "# plt.xlabel('Density(veh/m)')\n",
    "# plt.ylabel('Speed(m/s)')\n",
    "# plt.legend()\n",
    "# plt.savefig(\"calibration.png\", dpi=400, bbox_inches='tight')\n",
    "# plt.show()"
   ]
  },
  {
   "cell_type": "code",
   "execution_count": null,
   "id": "995f4a4e-eb78-492e-adf0-0f60286d02c4",
   "metadata": {
    "ExecuteTime": {
     "start_time": "2024-08-16T04:27:51.772313700Z"
    }
   },
   "outputs": [],
   "source": []
  }
 ],
 "metadata": {
  "kernelspec": {
   "display_name": "Python 3 (ipykernel)",
   "language": "python",
   "name": "python3"
  },
  "language_info": {
   "codemirror_mode": {
    "name": "ipython",
    "version": 3
   },
   "file_extension": ".py",
   "mimetype": "text/x-python",
   "name": "python",
   "nbconvert_exporter": "python",
   "pygments_lexer": "ipython3",
   "version": "3.9.7"
  }
 },
 "nbformat": 4,
 "nbformat_minor": 5
}
